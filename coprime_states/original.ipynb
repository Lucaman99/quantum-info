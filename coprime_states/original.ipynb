{
 "cells": [
  {
   "cell_type": "markdown",
   "metadata": {},
   "source": [
    "## Generating Prime States"
   ]
  },
  {
   "cell_type": "code",
   "execution_count": 2,
   "metadata": {},
   "outputs": [],
   "source": [
    "import numpy as np\n",
    "import scipy.linalg\n",
    "import math\n",
    "import random\n",
    "from matplotlib import pyplot as plt\n",
    "from toqito.states.entanglement.negativity import negativity\n",
    "from toqito.states.entanglement.concurrence import concurrence\n",
    "from tqdm import tqdm"
   ]
  },
  {
   "cell_type": "code",
   "execution_count": 3,
   "metadata": {},
   "outputs": [
    {
     "name": "stdout",
     "output_type": "stream",
     "text": [
      "[0.         0.         0.         0.         0.         0.70710678\n",
      " 0.         0.70710678 0.        ]\n"
     ]
    }
   ],
   "source": [
    "# Generating prime states numerically, for a given dimension\n",
    "\n",
    "def Generate_Prime_State(dimension):\n",
    "    \n",
    "    final_vector = np.array([0 for i in range(0, dimension**2)])\n",
    "    \n",
    "    for i in range(1, dimension+1):\n",
    "        for j in range(1, dimension+1):\n",
    "            \n",
    "            if (math.gcd(i, j) == 1 and j != 1 and i != 1):\n",
    "                \n",
    "                vector1 = np.array([0 for k in range(0, dimension)])\n",
    "                vector2 = np.array([0 for k in range(0, dimension)])\n",
    "                \n",
    "                vector1[i-1] = 1\n",
    "                vector2[j-1] = 1\n",
    "                \n",
    "                final_vector += np.kron(vector1, vector2)\n",
    "            \n",
    "    final_vector = final_vector / np.sqrt(sum(final_vector))\n",
    "    \n",
    "    return final_vector\n",
    "\n",
    "print(Generate_Prime_State(3))"
   ]
  },
  {
   "cell_type": "code",
   "execution_count": 4,
   "metadata": {},
   "outputs": [
    {
     "name": "stdout",
     "output_type": "stream",
     "text": [
      "[[2, 3], [5, 2]]\n"
     ]
    }
   ],
   "source": [
    "# Calculates the partial trace of the matrix\n",
    "\n",
    "def density_matrix(vector):\n",
    "\n",
    "    return np.outer(vector, np.conj(vector))\n",
    "\n",
    "def partial_trace(matrix):\n",
    "    \n",
    "    number = int(np.sqrt(len(matrix)))\n",
    "    new_matrix = []\n",
    "    \n",
    "    for i in range(0, number):\n",
    "        new_row = []\n",
    "        for j in range(0, number):\n",
    "            \n",
    "            sub = matrix[i*number:(i+1)*number, j*number:(j+1)*number]\n",
    "            new_row.append(np.trace(sub))\n",
    "        \n",
    "        new_matrix.append(new_row)\n",
    "    \n",
    "    return new_matrix\n",
    "            \n",
    "m = np.array([[1, 1, 2, 1], [1, 1, 1, 1], [4, 1, 1, 1], [1, 1, 1, 1]])\n",
    "print(partial_trace(m))"
   ]
  },
  {
   "cell_type": "code",
   "execution_count": 5,
   "metadata": {},
   "outputs": [],
   "source": [
    "# Finds the Von Neumann entropy\n",
    "\n",
    "def entropy(matrix):\n",
    "    \n",
    "    log = scipy.linalg.logm(matrix)\n",
    "    final_val = -1*np.trace(np.matmul(matrix, log))\n",
    "    return final_val\n",
    "\n",
    "# Finds the largest eigenvalue of the reduced density matrix\n",
    "\n",
    "def largest_eigenval(matrix):\n",
    "    \n",
    "    return max(np.linalg.eig(matrix)[0])"
   ]
  },
  {
   "cell_type": "code",
   "execution_count": 7,
   "metadata": {},
   "outputs": [
    {
     "data": {
      "image/png": "[encoded data removed]",
      "text/plain": [
       "<Figure size 432x288 with 1 Axes>"
      ]
     },
     "metadata": {
      "needs_background": "light"
     },
     "output_type": "display_data"
    }
   ],
   "source": [
    "dimensions = range(3, 50)\n",
    "y = []\n",
    "for i in dimensions:\n",
    "    \n",
    "    prime_state = Generate_Prime_State(i)\n",
    "    dm = density_matrix(prime_state)\n",
    "    new_dm = partial_trace(dm)\n",
    "    \n",
    "    y.append(entropy(new_dm) / np.log(i))\n",
    "\n",
    "plt.plot(dimensions, y)\n",
    "plt.show()"
   ]
  },
  {
   "cell_type": "markdown",
   "metadata": {},
   "source": [
    "New Changes - May 11th, 2020"
   ]
  },
  {
   "cell_type": "code",
   "execution_count": 13,
   "metadata": {},
   "outputs": [
    {
     "data": {
      "image/png": "[encoded data removed]",
      "text/plain": [
       "<Figure size 432x288 with 1 Axes>"
      ]
     },
     "metadata": {
      "needs_background": "light"
     },
     "output_type": "display_data"
    }
   ],
   "source": [
    "dimensions = range(3, 50)\n",
    "y = []\n",
    "for i in dimensions:\n",
    "    \n",
    "    prime_state = Generate_Prime_State(i)\n",
    "    dm = density_matrix(prime_state)\n",
    "    new_dm = partial_trace(dm)\n",
    "    \n",
    "    y.append(largest_eigenval(new_dm))\n",
    "\n",
    "plt.plot(dimensions, y)\n",
    "plt.show()"
   ]
  },
  {
   "cell_type": "markdown",
   "metadata": {},
   "source": [
    "New Changes - May 15th, 2020"
   ]
  },
  {
   "cell_type": "code",
   "execution_count": null,
   "metadata": {},
   "outputs": [],
   "source": []
  }
 ],
 "metadata": {
  "kernelspec": {
   "display_name": "Python 3",
   "language": "python",
   "name": "python3"
  },
  "language_info": {
   "codemirror_mode": {
    "name": "ipython",
    "version": 3
   },
   "file_extension": ".py",
   "mimetype": "text/x-python",
   "name": "python",
   "nbconvert_exporter": "python",
   "pygments_lexer": "ipython3",
   "version": "3.7.5"
  }
 },
 "nbformat": 4,
 "nbformat_minor": 4
}
